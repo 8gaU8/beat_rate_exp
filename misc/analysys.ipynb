{
 "cells": [
  {
   "cell_type": "code",
   "execution_count": 3,
   "metadata": {},
   "outputs": [],
   "source": [
    "import json\n",
    "from pathlib import Path\n",
    "import pandas as pd"
   ]
  },
  {
   "cell_type": "code",
   "execution_count": 4,
   "metadata": {},
   "outputs": [],
   "source": [
    "paths = ['assets/post/part4_15_METRE.wav', 'assets/post/part6_16_METRE.wav', 'assets/post/part5_16_METRE.wav', 'assets/post/part7_13_METRE.wav', 'assets/post/part5_19_METRE.wav', 'assets/post/part6_14_METRE.wav', 'assets/post/part4_12_METRE.wav', 'assets/post/part7_18_METRE.wav', 'assets/post/part6_18_METRE.wav', 'assets/post/part5_14_METRE.wav', 'assets/post/part5_20_METRE.wav', 'assets/post/part7_12_METRE.wav', 'assets/post/part4_14_METRE.wav', 'assets/post/part6_27_METRE.wav', 'assets/post/part6_19_METRE.wav', 'assets/post/part4_13_METRE.wav', 'assets/post/part5_17_METRE.wav', 'assets/post/part6_17_METRE.wav', 'assets/post/part6_28_METRE.wav', 'assets/post/part7_11_METRE.wav', 'assets/post/part7_19_METRE.wav', 'assets/post/part5_27_METRE.wav', 'assets/post/part6_20_METRE.wav', 'assets/post/part4_28_METRE.wav', 'assets/post/part5_26_METRE.wav', 'assets/post/part4_16_METRE.wav', 'assets/post/part4_26_METRE.wav', 'assets/post/part5_29_METRE.wav', 'assets/post/part4_29_METRE.wav', 'assets/post/part5_12_METRE.wav', 'assets/post/part6_29_METRE.wav', 'assets/post/part7_30_METRE.wav', 'assets/post/part6_11_METRE.wav', 'assets/post/part5_13_METRE.wav', 'assets/post/part7_28_METRE.wav', 'assets/post/part4_11_METRE.wav', 'assets/post/part5_28_METRE.wav', 'assets/post/part7_16_METRE.wav', 'assets/post/part6_15_METRE.wav', 'assets/post/part4_19_METRE.wav', 'assets/post/part7_27_METRE.wav', 'assets/post/part5_18_METRE.wav', 'assets/post/part7_1_TEMPO.wav', 'assets/post/part7_17_METRE.wav', 'assets/post/part4_20_METRE.wav', 'assets/post/part4_17_METRE.wav', 'assets/post/part7_26_METRE.wav', 'assets/post/part7_14_METRE.wav', 'assets/post/part4_27_METRE.wav', 'assets/post/part6_26_METRE.wav', 'assets/post/part7_20_METRE.wav', 'assets/post/part4_18_METRE.wav', 'assets/post/part5_11_METRE.wav', 'assets/post/part6_12_METRE.wav', 'assets/post/part5_15_METRE.wav', 'assets/post/part4_30_METRE.wav', 'assets/post/part7_15_METRE.wav', 'assets/post/part6_13_METRE.wav', 'assets/post/part7_29_METRE.wav', 'assets/post/part6_30_METRE.wav', 'assets/post/part5_30_METRE.wav']"
   ]
  },
  {
   "cell_type": "code",
   "execution_count": null,
   "metadata": {},
   "outputs": [
    {
     "name": "stdout",
     "output_type": "stream",
     "text": [
      "assets/post/part7_1_TEMPO.wav\n"
     ]
    }
   ],
   "source": [
    "for path in paths:\n",
    "    path = Path(path)\n",
    "    cond = path.stem[-5:]\n",
    "    if cond != \"METRE\":\n",
    "        print(path)"
   ]
  },
  {
   "cell_type": "code",
   "execution_count": 3,
   "metadata": {},
   "outputs": [
    {
     "name": "stdout",
     "output_type": "stream",
     "text": [
      "{'data': [{'studyId': 12, 'studyUuid': '21553863-7cb4-4f12-b104-49579e69a12f', 'studyTitle': 'hearing_test (0.3.0)', 'studyResults': [{'id': 27, 'uuid': 'e1aad216-ea03-4b26-9d4f-b60aff12db0f', 'studyCode': 'Dy3NF6qGKJM', 'comment': 'y haga', 'startDate': 1705630202130, 'endDate': 1705630383784, 'duration': '00:03:01', 'lastSeenDate': 1705630325746, 'studyState': 'FINISHED', 'workerId': 16, 'workerType': 'PersonalMultiple', 'batchId': 17, 'batchUuid': 'b35abf63-9970-4917-9acc-4aed766a3137', 'batchTitle': 'DEMO PART', 'groupId': None, 'componentResults': [{'id': 51, 'componentId': 12, 'componentUuid': '82674c1b-c11e-406d-aa39-5cf8f678aefb', 'startDate': 1705630202700, 'endDate': 1705630383784, 'duration': '00:03:01', 'componentState': 'FINISHED', 'path': '/study_result_27/comp-result_51', 'data': {'size': 4596, 'sizeHumanReadable': '4.6 kB'}, 'files': []}]}, {'id': 28, 'uuid': '27cfd2c0-9dbf-44a6-ad2c-14f217eea138', 'studyCode': 'zSJjpwLcxEa', 'comment': 'hattori', 'startDate': 1705633253283, 'endDate': 1705633437888, 'duration': '00:03:04', 'lastSeenDate': 1705633375551, 'studyState': 'FINISHED', 'urlQueryParameters': {'code': 'zSJjpwLcxEa'}, 'workerId': 19, 'workerType': 'PersonalMultiple', 'batchId': 17, 'batchUuid': 'b35abf63-9970-4917-9acc-4aed766a3137', 'batchTitle': 'DEMO PART', 'groupId': None, 'componentResults': [{'id': 52, 'componentId': 12, 'componentUuid': '82674c1b-c11e-406d-aa39-5cf8f678aefb', 'startDate': 1705633253487, 'endDate': 1705633437889, 'duration': '00:03:04', 'componentState': 'FINISHED', 'path': '/study_result_28/comp-result_52', 'data': {'size': 4591, 'sizeHumanReadable': '4.6 kB'}, 'files': []}]}, {'id': 29, 'uuid': 'c4f023a0-aabb-4263-8d81-9dc2d93f1603', 'studyCode': 'cHPoMs0rnSS', 'comment': 'ogasawara san', 'startDate': 1705637384214, 'endDate': 1705637845564, 'duration': '00:07:41', 'lastSeenDate': 1705637747250, 'studyState': 'FINISHED', 'workerId': 20, 'workerType': 'PersonalMultiple', 'batchId': 17, 'batchUuid': 'b35abf63-9970-4917-9acc-4aed766a3137', 'batchTitle': 'DEMO PART', 'groupId': None, 'componentResults': [{'id': 53, 'componentId': 12, 'componentUuid': '82674c1b-c11e-406d-aa39-5cf8f678aefb', 'startDate': 1705637384395, 'endDate': 1705637845564, 'duration': '00:07:41', 'componentState': 'FINISHED', 'path': '/study_result_29/comp-result_53', 'data': {'size': 4613, 'sizeHumanReadable': '4.6 kB'}, 'files': []}]}, {'id': 30, 'uuid': '5dedac2a-2b27-4ad8-b58e-f0da3bcdbe20', 'studyCode': 'MhkUHvZm2lL', 'comment': 'Tester5', 'startDate': 1705637624230, 'endDate': 1705637843269, 'duration': '00:03:39', 'lastSeenDate': 1705637746234, 'studyState': 'FINISHED', 'urlQueryParameters': {'code': 'MhkUHvZm2lL'}, 'workerId': 21, 'workerType': 'PersonalMultiple', 'batchId': 17, 'batchUuid': 'b35abf63-9970-4917-9acc-4aed766a3137', 'batchTitle': 'DEMO PART', 'groupId': None, 'componentResults': [{'id': 54, 'componentId': 12, 'componentUuid': '82674c1b-c11e-406d-aa39-5cf8f678aefb', 'startDate': 1705637624380, 'endDate': 1705637843270, 'duration': '00:03:38', 'componentState': 'FINISHED', 'path': '/study_result_30/comp-result_54', 'data': {'size': 4602, 'sizeHumanReadable': '4.6 kB'}, 'files': []}]}, {'id': 31, 'uuid': '520c05dd-470f-4471-8240-8e70a69e340b', 'studyCode': 'BnPPhDt233l', 'comment': 'failed example', 'startDate': 1705638340960, 'endDate': None, 'duration': None, 'lastSeenDate': 1705638364092, 'studyState': 'DATA_RETRIEVED', 'workerId': 23, 'workerType': 'PersonalSingle', 'batchId': 17, 'batchUuid': 'b35abf63-9970-4917-9acc-4aed766a3137', 'batchTitle': 'DEMO PART', 'groupId': None, 'componentResults': [{'id': 55, 'componentId': 12, 'componentUuid': '82674c1b-c11e-406d-aa39-5cf8f678aefb', 'startDate': 1705638341105, 'endDate': 1705638344655, 'duration': '00:00:03', 'componentState': 'RELOADED', 'path': '/study_result_31/comp-result_55', 'data': {'size': 0, 'sizeHumanReadable': '0 B', 'filename': 'data.txt'}, 'files': []}, {'id': 56, 'componentId': 12, 'componentUuid': '82674c1b-c11e-406d-aa39-5cf8f678aefb', 'startDate': 1705638344655, 'endDate': 1705638355744, 'duration': '00:00:11', 'componentState': 'RELOADED', 'path': '/study_result_31/comp-result_56', 'data': {'size': 0, 'sizeHumanReadable': '0 B', 'filename': 'data.txt'}, 'files': []}, {'id': 57, 'componentId': 12, 'componentUuid': '82674c1b-c11e-406d-aa39-5cf8f678aefb', 'startDate': 1705638355745, 'endDate': 1705638362750, 'duration': '00:00:07', 'componentState': 'RELOADED', 'path': '/study_result_31/comp-result_57', 'data': {'size': 0, 'sizeHumanReadable': '0 B', 'filename': 'data.txt'}, 'files': []}, {'id': 58, 'componentId': 12, 'componentUuid': '82674c1b-c11e-406d-aa39-5cf8f678aefb', 'startDate': 1705638362751, 'endDate': 1705638451132, 'duration': '00:01:28', 'componentState': 'RELOADED', 'path': '/study_result_31/comp-result_58', 'data': {'size': 0, 'sizeHumanReadable': '0 B', 'filename': 'data.txt'}, 'files': []}, {'id': 59, 'componentId': 12, 'componentUuid': '82674c1b-c11e-406d-aa39-5cf8f678aefb', 'startDate': 1705638451133, 'endDate': None, 'duration': None, 'componentState': 'STARTED', 'path': '/study_result_31/comp-result_59', 'data': {'size': 0, 'sizeHumanReadable': '0 B', 'filename': 'data.txt'}, 'files': []}]}]}]}\n"
     ]
    }
   ],
   "source": [
    "def analysys(path: Path):\n",
    "    with open(path) as f:\n",
    "        j = json.load(f)\n",
    "    return j\n",
    "\n",
    "\n",
    "jatos_roots = Path(\"./data\").glob(\"jatos*\")\n",
    "for jatos_root in jatos_roots:\n",
    "    meta_data = (jatos_root / \"metadata.json\")\n",
    "    print(analysys(meta_data))"
   ]
  },
  {
   "cell_type": "code",
   "execution_count": 4,
   "metadata": {},
   "outputs": [],
   "source": [
    "class StimBlock:\n",
    "    def __init__(self) -> None:\n",
    "        self.A = None\n",
    "        self.B = None\n",
    "        self.__response = None\n",
    "\n",
    "    def add_stim(self, value):\n",
    "        if self.A is None:\n",
    "            self.A = value\n",
    "            return\n",
    "        if self.B is None:\n",
    "            self.B = value\n",
    "            return\n",
    "\n",
    "    def to_dict(self):\n",
    "        return {\"A\": self.A, \"B\": self.B, \"response\": self.response}\n",
    "\n",
    "    def is_correct(self):\n",
    "        assert self.A is not None and self.B is not None\n",
    "        if \"post\" in self.A:\n",
    "            return self.response == 0\n",
    "        if \"post\" in self.B:\n",
    "            return self.response == 1\n",
    "\n",
    "    def is_full(self):\n",
    "        return self.A is not None and self.B is not None and self.response is not None\n",
    "\n",
    "    def __str__(self) -> str:\n",
    "        return f\"StimBlock(A={self.A}, B={self.B}, {self.response})\"\n",
    "\n",
    "    @property\n",
    "    def response(self):\n",
    "        return self.__response\n",
    "\n",
    "    @response.setter\n",
    "    def response(self, resp):\n",
    "        if self.__response is None:\n",
    "            self.__response = resp\n",
    "\n",
    "\n",
    "class StimBlocks:\n",
    "    def __init__(self) -> None:\n",
    "        self.stim_blocks = []\n",
    "\n",
    "    def add(self, stim_block: StimBlock):\n",
    "        assert stim_block.is_full()\n",
    "        self.stim_blocks.append(stim_block)\n",
    "\n",
    "    def corr_rate(self):\n",
    "        corrs = 0\n",
    "        for sb in self.stim_blocks:\n",
    "            corrs += 1 if sb.is_correct else 0\n",
    "        return corrs / len(self.stim_blocks)"
   ]
  },
  {
   "cell_type": "code",
   "execution_count": 5,
   "metadata": {},
   "outputs": [],
   "source": [
    "def is_participant_correct(data_path: Path):\n",
    "    with open(data_path / \"data.txt\") as f:\n",
    "        j = json.load(f)\n",
    "    stim_block = StimBlock()\n",
    "    stim_blocks = StimBlocks()\n",
    "    for e in j:\n",
    "        if e[\"trial_type\"] == \"audio-keyboard-response\":\n",
    "            stim_block.add_stim(e[\"stimulus\"])\n",
    "        if \"stimData\" in e.keys():\n",
    "            stim_block.response = e[\"response\"]\n",
    "            assert stim_block.is_correct()\n",
    "            stim_blocks.add(stim_block)\n",
    "            stim_block = StimBlock()\n",
    "    return stim_blocks.corr_rate() == 1"
   ]
  },
  {
   "cell_type": "code",
   "execution_count": 16,
   "metadata": {},
   "outputs": [
    {
     "name": "stdout",
     "output_type": "stream",
     "text": [
      "study title hearing_test (0.3.0)\n",
      "51\n",
      "y haga True\n",
      "52\n",
      "hattori True\n",
      "53\n",
      "ogasawara san True\n",
      "54\n",
      "Tester5 True\n",
      "55\n",
      "failed example RELOADED\n",
      "56\n",
      "failed example RELOADED\n",
      "57\n",
      "failed example RELOADED\n",
      "58\n",
      "failed example RELOADED\n",
      "59\n",
      "failed example STARTED\n"
     ]
    }
   ],
   "source": [
    "root = Path.cwd()\n",
    "data_root = root / meta_data.parent\n",
    "path = meta_data\n",
    "with open(path) as f:\n",
    "    j = json.load(f)\n",
    "for d in j[\"data\"]:\n",
    "    print(\"study title\", d[\"studyTitle\"])\n",
    "    for e in d[\"studyResults\"]:\n",
    "        for c in e[\"componentResults\"]:\n",
    "            print(c[\"id\"])\n",
    "            if (c[\"componentState\"]) == \"FINISHED\":\n",
    "                data_path = data_root / str(c[\"path\"][1:])\n",
    "                print(e[\"comment\"], is_participant_correct(data_path))\n",
    "            else:\n",
    "                print(e[\"comment\"], c[\"componentState\"])"
   ]
  },
  {
   "cell_type": "code",
   "execution_count": 50,
   "metadata": {},
   "outputs": [],
   "source": [
    "class StimBlock:\n",
    "    def __init__(self) -> None:\n",
    "        self.A = None\n",
    "        self.B = None\n",
    "        self.__response = None\n",
    "\n",
    "    def add_stim(self, value):\n",
    "        if self.A is None:\n",
    "            self.A = value\n",
    "            return\n",
    "        if self.B is None:\n",
    "            self.B = value\n",
    "            return\n",
    "\n",
    "    def to_dict(self):\n",
    "        return {\"A\": self.A, \"B\": self.B, \"response\": self.response}\n",
    "\n",
    "    def is_correct(self):\n",
    "        assert self.A is not None and self.B is not None\n",
    "        if \"post\" in self.A:\n",
    "            return self.response == 0\n",
    "        if \"post\" in self.B:\n",
    "            return self.response == 1\n",
    "\n",
    "    def is_full(self):\n",
    "        return self.A is not None and self.B is not None and self.response is not None\n",
    "\n",
    "    def __str__(self) -> str:\n",
    "        return f\"StimBlock(A={self.A}, B={self.B}, {self.response})\"\n",
    "\n",
    "    @property\n",
    "    def response(self):\n",
    "        return self.__response\n",
    "\n",
    "    @response.setter\n",
    "    def response(self, resp):\n",
    "        if self.__response is None:\n",
    "            self.__response = resp\n",
    "\n",
    "\n",
    "class StimBlocks:\n",
    "    def __init__(self) -> None:\n",
    "        self.stim_blocks = []\n",
    "\n",
    "    def add(self, stim_block: StimBlock):\n",
    "        assert stim_block.is_full()\n",
    "        self.stim_blocks.append(stim_block)\n",
    "\n",
    "    def corr_rate(self):\n",
    "        corrs = 0\n",
    "        for sb in self.stim_blocks:\n",
    "            corrs += 1 if sb.is_correct else 0\n",
    "        return corrs / len(self.stim_blocks)"
   ]
  },
  {
   "cell_type": "code",
   "execution_count": 53,
   "metadata": {},
   "outputs": [
    {
     "data": {
      "text/plain": [
       "1.0"
      ]
     },
     "execution_count": 53,
     "metadata": {},
     "output_type": "execute_result"
    }
   ],
   "source": []
  },
  {
   "cell_type": "code",
   "execution_count": 28,
   "metadata": {},
   "outputs": [
    {
     "data": {
      "text/plain": [
       "[{}, {}, {}, {}, {}, {}, {}]"
      ]
     },
     "execution_count": 28,
     "metadata": {},
     "output_type": "execute_result"
    }
   ],
   "source": []
  }
 ],
 "metadata": {
  "kernelspec": {
   "display_name": "NIDlab",
   "language": "python",
   "name": "python3"
  },
  "language_info": {
   "codemirror_mode": {
    "name": "ipython",
    "version": 3
   },
   "file_extension": ".py",
   "mimetype": "text/x-python",
   "name": "python",
   "nbconvert_exporter": "python",
   "pygments_lexer": "ipython3",
   "version": "3.10.13"
  }
 },
 "nbformat": 4,
 "nbformat_minor": 2
}
